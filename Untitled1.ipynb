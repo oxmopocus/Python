{
 "cells": [
  {
   "cell_type": "code",
   "execution_count": 29,
   "metadata": {},
   "outputs": [],
   "source": [
    "import pandas as pd"
   ]
  },
  {
   "cell_type": "code",
   "execution_count": 30,
   "metadata": {},
   "outputs": [],
   "source": [
    "import csv"
   ]
  },
  {
   "cell_type": "code",
   "execution_count": 31,
   "metadata": {},
   "outputs": [
    {
     "ename": "SyntaxError",
     "evalue": "invalid character in identifier (<ipython-input-31-0e2cb340e011>, line 1)",
     "output_type": "error",
     "traceback": [
      "\u001b[0;36m  File \u001b[0;32m\"<ipython-input-31-0e2cb340e011>\"\u001b[0;36m, line \u001b[0;32m1\u001b[0m\n\u001b[0;31m    city=pd.read_csv(‘villes_france.csv’, names=[‘ville_id’, ‘ville_departement’, ‘ville_slug’, ‘ville_nom’, ‘ville_nom_simple’, ‘ville_nom_reel’, ‘ville_nom_soundex’, ‘ville_nom_metaphone’, ‘ville_code_postal’, ‘ville_commune’, ‘ville_code_commune’, ‘ville_arrondissement’, ‘ville_canton’, ‘ville_amdi’, ‘ville_population_2010’, ‘ville_population_1999’, ‘ville_population_2012’, ‘ville_densite_2010’, ‘ville_surface’, ‘ville_longitude_de’, ‘ville_latitude_deg’, ‘ville_longitude_grd’, ‘ville_latitude_grd’, ‘ville_longitude_dms’, ‘ville_latitude_dms’, ‘ville_zmin’, ‘ville_zmax’], header=None)\u001b[0m\n\u001b[0m                                  ^\u001b[0m\n\u001b[0;31mSyntaxError\u001b[0m\u001b[0;31m:\u001b[0m invalid character in identifier\n"
     ]
    }
   ],
   "source": [
    "city=pd.read_csv(‘villes_france.csv’, names=[‘ville_id’, ‘ville_departement’, ‘ville_slug’, ‘ville_nom’, ‘ville_nom_simple’, ‘ville_nom_reel’, ‘ville_nom_soundex’, ‘ville_nom_metaphone’, ‘ville_code_postal’, ‘ville_commune’, ‘ville_code_commune’, ‘ville_arrondissement’, ‘ville_canton’, ‘ville_amdi’, ‘ville_population_2010’, ‘ville_population_1999’, ‘ville_population_2012’, ‘ville_densite_2010’, ‘ville_surface’, ‘ville_longitude_de’, ‘ville_latitude_deg’, ‘ville_longitude_grd’, ‘ville_latitude_grd’, ‘ville_longitude_dms’, ‘ville_latitude_dms’, ‘ville_zmin’, ‘ville_zmax’], header=None)"
   ]
  },
  {
   "cell_type": "code",
   "execution_count": null,
   "metadata": {},
   "outputs": [],
   "source": []
  }
 ],
 "metadata": {
  "kernelspec": {
   "display_name": "Python 3",
   "language": "python",
   "name": "python3"
  },
  "language_info": {
   "codemirror_mode": {
    "name": "ipython",
    "version": 3
   },
   "file_extension": ".py",
   "mimetype": "text/x-python",
   "name": "python",
   "nbconvert_exporter": "python",
   "pygments_lexer": "ipython3",
   "version": "3.7.4"
  }
 },
 "nbformat": 4,
 "nbformat_minor": 2
}
